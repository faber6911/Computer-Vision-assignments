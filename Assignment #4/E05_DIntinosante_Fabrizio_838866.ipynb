{
 "cells": [
  {
   "cell_type": "markdown",
   "metadata": {},
   "source": [
    "# Digital Signal and Image Management"
   ]
  },
  {
   "cell_type": "markdown",
   "metadata": {},
   "source": [
    "## Assignment 4"
   ]
  },
  {
   "cell_type": "markdown",
   "metadata": {},
   "source": [
    "Implementare una rete neurale per la classificazione del dataset MNIST a partire dalle istruzioni viste ad esercitazione.\n",
    "\n",
    "Seguire la seguente struttura:\n",
    "\n",
    "* Convoluzione bidimensionale con 32 filtri 3×3\n",
    "* ReLU\n",
    "* Max pooling bidimensionale con filtro 2×2\n",
    "* Flattening\n",
    "* Fully-connected che mappi a 128 dimensioni\n",
    "* ReLU\n",
    "* Fully-connected che mappi alla dimensione finale del problema"
   ]
  },
  {
   "cell_type": "markdown",
   "metadata": {},
   "source": [
    "### Packages"
   ]
  },
  {
   "cell_type": "markdown",
   "metadata": {},
   "source": [
    "Innanzitutto importiamo i pacchetti necessari."
   ]
  },
  {
   "cell_type": "code",
   "execution_count": 1,
   "metadata": {},
   "outputs": [
    {
     "name": "stderr",
     "output_type": "stream",
     "text": [
      "Using TensorFlow backend.\n"
     ]
    }
   ],
   "source": [
    "import tensorflow as tf\n",
    "from keras.models import Model\n",
    "from keras.layers import (Dense, Input, Dropout, Flatten,\n",
    "                         BatchNormalization, MaxPooling2D, Conv2D, ReLU, Softmax)\n",
    "from keras.datasets import mnist\n",
    "from keras.utils import to_categorical\n",
    "from livelossplot.keras import PlotLossesCallback\n",
    "from sklearn.metrics import classification_report\n",
    "\n",
    "import numpy as np\n",
    "import matplotlib.pyplot as plt"
   ]
  },
  {
   "cell_type": "markdown",
   "metadata": {},
   "source": [
    "Importiamo il dataset **MNIST**."
   ]
  },
  {
   "cell_type": "code",
   "execution_count": 2,
   "metadata": {},
   "outputs": [],
   "source": [
    "(x_train, y_train), (x_test, y_test) = mnist.load_data()"
   ]
  },
  {
   "cell_type": "markdown",
   "metadata": {},
   "source": [
    "Verifichiamo le dimensionalità."
   ]
  },
  {
   "cell_type": "code",
   "execution_count": 3,
   "metadata": {},
   "outputs": [
    {
     "name": "stdout",
     "output_type": "stream",
     "text": [
      "X train shape:(60000, 28, 28)\n",
      "X test shape:(10000, 28, 28)\n"
     ]
    }
   ],
   "source": [
    "print(\"X train shape:{}\\nX test shape:{}\".format(x_train.shape, x_test.shape))"
   ]
  },
  {
   "cell_type": "markdown",
   "metadata": {},
   "source": [
    "Plottiamo degli esempi:"
   ]
  },
  {
   "cell_type": "code",
   "execution_count": 4,
   "metadata": {},
   "outputs": [
    {
     "data": {
      "image/png": "[encoded data removed]",
      "text/plain": [
       "<Figure size 1440x1080 with 10 Axes>"
      ]
     },
     "metadata": {
      "needs_background": "light"
     },
     "output_type": "display_data"
    }
   ],
   "source": [
    "plt.figure(figsize = (20,15))\n",
    "n = 10\n",
    "for i in range(n):\n",
    "    ax = plt.subplot(2, n, i + 1)\n",
    "    plt.imshow(x_train[i], cmap = \"gray\")\n",
    "    plt.title(\"(Label: \" + str(y_train[i]) + \")\")\n",
    "    ax.get_xaxis().set_visible(False)\n",
    "    ax.get_yaxis().set_visible(False)"
   ]
  },
  {
   "cell_type": "markdown",
   "metadata": {},
   "source": [
    "Aggiungiamo alle nostre immagini, sotto forma di *np.arrays*, una dimensione ulteriore per indicare la quantità di canali presenti."
   ]
  },
  {
   "cell_type": "code",
   "execution_count": 5,
   "metadata": {},
   "outputs": [
    {
     "name": "stdout",
     "output_type": "stream",
     "text": [
      "X train shape:(60000, 28, 28, 1)\n",
      "X test shape:(10000, 28, 28, 1)\n"
     ]
    }
   ],
   "source": [
    "x_train = np.expand_dims(x_train, axis = -1)\n",
    "x_test = np.expand_dims(x_test, axis = -1)\n",
    "\n",
    "print(\"X train shape:{}\\nX test shape:{}\".format(x_train.shape, x_test.shape))"
   ]
  },
  {
   "cell_type": "markdown",
   "metadata": {},
   "source": [
    "A questo punto provvediamo a castare le nostre immagini in formato a virgola mobile ed a riscalare il valore dei pixel dall'iniziale *range* [0, 255] al nuovo [0, 1]."
   ]
  },
  {
   "cell_type": "code",
   "execution_count": 6,
   "metadata": {},
   "outputs": [
    {
     "name": "stdout",
     "output_type": "stream",
     "text": [
      "Original X train max:255\n",
      "Original X test max:255\n",
      "New X train max:1.0\n",
      "New X test max:1.0\n"
     ]
    }
   ],
   "source": [
    "print(\"Original X train max:{}\\nOriginal X test max:{}\".format(np.max(x_train), np.max(x_test)))\n",
    "\n",
    "x_train = x_train.astype('float32')/255.0\n",
    "x_test = x_test.astype('float32')/255.0\n",
    "\n",
    "print(\"New X train max:{}\\nNew X test max:{}\".format(np.max(x_train), np.max(x_test)))"
   ]
  },
  {
   "cell_type": "markdown",
   "metadata": {},
   "source": [
    "A questo punto non ci resta che convertire il formato delle nostre etichette in *one-hot encoding* per permettere la classificazione *multilabel*."
   ]
  },
  {
   "cell_type": "code",
   "execution_count": 7,
   "metadata": {},
   "outputs": [
    {
     "name": "stdout",
     "output_type": "stream",
     "text": [
      "Old y format example: 5\n",
      "New y format example: [0. 0. 0. 0. 0. 1. 0. 0. 0. 0.]\n"
     ]
    }
   ],
   "source": [
    "print(\"Old y format example: {}\".format(y_train[0]))\n",
    "\n",
    "num_classes = 10\n",
    "y_train = to_categorical(y_train, num_classes)\n",
    "\n",
    "print(\"New y format example: {}\".format(y_train[0]))"
   ]
  },
  {
   "cell_type": "markdown",
   "metadata": {},
   "source": [
    "A questo punto siamo pronti a realizzare la nostra rete.\n",
    "\n",
    "Iniziamo inizializzando alcuni iper-parametri come *batch size*, numero di epoche ed inizializzando il formato delle immagini che andranno in input alla nostra rete."
   ]
  },
  {
   "cell_type": "code",
   "execution_count": 8,
   "metadata": {},
   "outputs": [],
   "source": [
    "batch_size = 2048\n",
    "epochs = 10\n",
    "inChannel = x_train.shape[3]\n",
    "x, y = x_train.shape[1], x_train.shape[2]\n",
    "input_img = Input(shape = (x, y, inChannel))\n",
    "num_classes = y_train.shape[1]"
   ]
  },
  {
   "cell_type": "markdown",
   "metadata": {},
   "source": [
    "A questo punto definiamo il corpo vero e proprio del nostro modello utilizzando però la struttura Model invece di quella Sequential, seguendo le specifiche di consegna:"
   ]
  },
  {
   "cell_type": "code",
   "execution_count": 9,
   "metadata": {},
   "outputs": [],
   "source": [
    "def init_model(input_img):\n",
    "    conv1 = Conv2D(32, (3, 3))(input_img)\n",
    "    act1 = ReLU()(conv1)\n",
    "    pool1 = MaxPooling2D(pool_size=(2, 2), strides = 1)(act1)\n",
    "    flat = Flatten()(pool1)\n",
    "    fc1 = Dense(128)(flat)\n",
    "    act2 = ReLU()(fc1)\n",
    "    fc2 = Dense(num_classes)(act2)\n",
    "    out = Softmax()(fc2)\n",
    "    return out"
   ]
  },
  {
   "cell_type": "markdown",
   "metadata": {},
   "source": [
    "Procediamo infine ad inizializzare il modello e a compilarlo specificando loss function, ottimizzatore e metrica aggiuntiva."
   ]
  },
  {
   "cell_type": "code",
   "execution_count": 10,
   "metadata": {},
   "outputs": [
    {
     "name": "stdout",
     "output_type": "stream",
     "text": [
      "Model: \"model_1\"\n",
      "_________________________________________________________________\n",
      "Layer (type)                 Output Shape              Param #   \n",
      "=================================================================\n",
      "input_1 (InputLayer)         (None, 28, 28, 1)         0         \n",
      "_________________________________________________________________\n",
      "conv2d_1 (Conv2D)            (None, 26, 26, 32)        320       \n",
      "_________________________________________________________________\n",
      "re_lu_1 (ReLU)               (None, 26, 26, 32)        0         \n",
      "_________________________________________________________________\n",
      "max_pooling2d_1 (MaxPooling2 (None, 25, 25, 32)        0         \n",
      "_________________________________________________________________\n",
      "flatten_1 (Flatten)          (None, 20000)             0         \n",
      "_________________________________________________________________\n",
      "dense_1 (Dense)              (None, 128)               2560128   \n",
      "_________________________________________________________________\n",
      "re_lu_2 (ReLU)               (None, 128)               0         \n",
      "_________________________________________________________________\n",
      "dense_2 (Dense)              (None, 10)                1290      \n",
      "_________________________________________________________________\n",
      "softmax_1 (Softmax)          (None, 10)                0         \n",
      "=================================================================\n",
      "Total params: 2,561,738\n",
      "Trainable params: 2,561,738\n",
      "Non-trainable params: 0\n",
      "_________________________________________________________________\n"
     ]
    }
   ],
   "source": [
    "full_model = Model(input_img, init_model(input_img))\n",
    "\n",
    "full_model.compile(loss = 'categorical_crossentropy',\n",
    "                   optimizer = 'adam',\n",
    "                   metrics=['acc'])\n",
    "\n",
    "full_model.summary()"
   ]
  },
  {
   "cell_type": "markdown",
   "metadata": {},
   "source": [
    "Il nostro modello contiene ~ 2.500.000 parametri, ciò è dovuto alla numerosità dei neuroni del primo layer fully connected. Un numero tale di neuroni infatti porta all'esplosione dei parametri totali da stimare poichè ogni pixel residuo dopo il processo di max pooling sarà connesso ad ogni neurone."
   ]
  },
  {
   "cell_type": "markdown",
   "metadata": {},
   "source": [
    "Specifichiamo a questo punto le ultime istruzioni, tra questo l'utilizzo di un validation set pari al 10% del training set e l'utilizzo di una callback personalizzata per plottare in streaming le prestazioni del modello oltre alla produzione di un report riguardante i valori min, max e current di loss e accuracy sia per quanto riguarda il training set, sia il validation set."
   ]
  },
  {
   "cell_type": "code",
   "execution_count": 11,
   "metadata": {},
   "outputs": [
    {
     "data": {
      "image/png": "[encoded data removed]",
      "text/plain": [
       "<Figure size 864x576 with 2 Axes>"
      ]
     },
     "metadata": {
      "needs_background": "light"
     },
     "output_type": "display_data"
    },
    {
     "name": "stdout",
     "output_type": "stream",
     "text": [
      "Log-loss (cost function):\n",
      "training   (min:    0.032, max:    0.589, cur:    0.032)\n",
      "validation (min:    0.046, max:    0.201, cur:    0.046)\n",
      "\n",
      "Accuracy:\n",
      "training   (min:    0.829, max:    0.992, cur:    0.992)\n",
      "validation (min:    0.942, max:    0.988, cur:    0.988)\n"
     ]
    }
   ],
   "source": [
    "trained = full_model.fit(x_train, y_train, \n",
    "                        batch_size = batch_size, epochs = epochs,\n",
    "                        verbose = 0, validation_split = .1, use_multiprocessing = True,\n",
    "                        callbacks = [PlotLossesCallback()])"
   ]
  },
  {
   "cell_type": "markdown",
   "metadata": {},
   "source": [
    "Per concludere produciamo un classification report per verificare le prestazioni del nostro modello sul test set."
   ]
  },
  {
   "cell_type": "code",
   "execution_count": 12,
   "metadata": {},
   "outputs": [
    {
     "name": "stdout",
     "output_type": "stream",
     "text": [
      "              precision    recall  f1-score   support\n",
      "\n",
      "           0     0.9749    0.9898    0.9823       980\n",
      "           1     0.9930    0.9930    0.9930      1135\n",
      "           2     0.9844    0.9767    0.9805      1032\n",
      "           3     0.9921    0.9891    0.9906      1010\n",
      "           4     0.9898    0.9857    0.9878       982\n",
      "           5     0.9887    0.9832    0.9859       892\n",
      "           6     0.9833    0.9843    0.9838       958\n",
      "           7     0.9732    0.9893    0.9812      1028\n",
      "           8     0.9865    0.9743    0.9804       974\n",
      "           9     0.9782    0.9772    0.9777      1009\n",
      "\n",
      "    accuracy                         0.9844     10000\n",
      "   macro avg     0.9844    0.9843    0.9843     10000\n",
      "weighted avg     0.9844    0.9844    0.9844     10000\n",
      "\n"
     ]
    }
   ],
   "source": [
    "y_pred = full_model.predict(x_test)\n",
    "y_pred = np.argmax(y_pred, axis = 1)\n",
    "print(classification_report(y_test, y_pred, digits = 4))"
   ]
  },
  {
   "cell_type": "markdown",
   "metadata": {},
   "source": [
    "Come si può vedere le prestazioni sono molto elevate, ma ciò è dovuto alla sostanziale semplicità della classificazione, poichè il MNIST è considerabile un dataset \"giocattolo\"."
   ]
  }
 ],
 "metadata": {
  "kernelspec": {
   "display_name": "Python [conda env:dsim] *",
   "language": "python",
   "name": "conda-env-dsim-py"
  },
  "language_info": {
   "codemirror_mode": {
    "name": "ipython",
    "version": 3
   },
   "file_extension": ".py",
   "mimetype": "text/x-python",
   "name": "python",
   "nbconvert_exporter": "python",
   "pygments_lexer": "ipython3",
   "version": "3.7.5"
  }
 },
 "nbformat": 4,
 "nbformat_minor": 2
}
